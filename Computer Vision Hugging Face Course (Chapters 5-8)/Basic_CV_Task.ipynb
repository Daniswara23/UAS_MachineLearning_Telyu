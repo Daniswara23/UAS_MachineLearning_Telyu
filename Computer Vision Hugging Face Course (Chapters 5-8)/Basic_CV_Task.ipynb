{
  "nbformat": 4,
  "nbformat_minor": 0,
  "metadata": {
    "colab": {
      "provenance": [],
      "authorship_tag": "ABX9TyMaSvApqdBFbh+KlEhezoKW",
      "include_colab_link": true
    },
    "kernelspec": {
      "name": "python3",
      "display_name": "Python 3"
    },
    "language_info": {
      "name": "python"
    }
  },
  "cells": [
    {
      "cell_type": "markdown",
      "metadata": {
        "id": "view-in-github",
        "colab_type": "text"
      },
      "source": [
        "<a href=\"https://colab.research.google.com/github/yoboiwatsup/MachineLearning/blob/main/UAS/Basic_CV_Task.ipynb\" target=\"_parent\"><img src=\"https://colab.research.google.com/assets/colab-badge.svg\" alt=\"Open In Colab\"/></a>"
      ]
    },
    {
      "cell_type": "markdown",
      "source": [
        "### Pengantar Tugas Dasar dalam Visi Komputer\n",
        "\n",
        "Unit ini bertujuan untuk memberikan pemahaman yang lebih baik tentang berbagai tugas dasar dalam visi komputer, termasuk:\n",
        "\n",
        "1. **Klasifikasi Gambar**: Menentukan kategori atau label untuk gambar.\n",
        "2. **Deteksi Objek**: Mengidentifikasi dan melokalisasi objek dalam gambar.\n",
        "3. **Segmentasi Gambar**: Memisahkan gambar menjadi bagian-bagian yang bermakna, seperti mengidentifikasi setiap objek dalam gambar.\n",
        "\n",
        "### Subkategori Tugas\n",
        "\n",
        "- **Segmentasi Semantik**: Mengklasifikasikan setiap piksel dalam gambar ke dalam kategori tertentu tanpa membedakan antara objek individu.\n",
        "- **Segmentasi Instansi**: Mengidentifikasi setiap instansi objek dengan masker unik, menggabungkan deteksi objek dan segmentasi.\n",
        "- **Segmentasi Panoptik**: Menggabungkan elemen segmentasi semantik dan instansi, memberikan kelas dan instansi untuk setiap piksel.\n",
        "\n",
        "### Dataset dan Evaluasi\n",
        "\n",
        "Halaman ini juga menyoroti dataset populer yang digunakan untuk tugas-tugas ini dan cara evaluasi model, termasuk metrik seperti Intersection over Union (IoU), akurasi piksel, dan koefisien Dice.\n",
        "\n",
        "### Model Populer\n",
        "\n",
        "Unit ini membahas beberapa model yang umum digunakan untuk tugas-tugas tersebut, termasuk model berbasis Vision Transformer yang baru-baru ini mendapatkan perhatian.\n",
        "\n"
      ],
      "metadata": {
        "id": "K8yoq_8IGJjD"
      }
    },
    {
      "cell_type": "markdown",
      "source": [
        "### Object Detection\n",
        "\n",
        "Deteksi objek adalah tugas penting dalam sistem visi komputer modern yang bertujuan untuk mengidentifikasi dan melokalisasi objek tertentu dalam gambar digital atau bingkai video. Hal ini memiliki aplikasi luas di berbagai sektor, termasuk:\n",
        "\n",
        "- **Mobil Otonom**: Mengidentifikasi rintangan dan pejalan kaki di jalan.\n",
        "- **Sistem Pengawasan**: Memantau area publik untuk keamanan.\n",
        "- **Diagnosis Medis**: Mendeteksi penyakit dalam gambar medis.\n",
        "- **Industri Manufaktur**: Memastikan konsistensi produk.\n",
        "- **Augmented Reality**: Meningkatkan pengalaman pengguna dengan informasi tambahan.\n",
        "\n",
        "### Konsep Dasar\n",
        "\n",
        "Deteksi objek menggabungkan dua pendekatan utama:\n",
        "- **Klasifikasi**: Menentukan jenis objek berdasarkan atribut unik.\n",
        "- **Lokalisasi**: Menentukan lokasi objek dalam gambar.\n",
        "\n",
        "Contoh sederhana adalah mengenali berbagai jenis buah dan menentukan lokasi mereka dalam satu gambar.\n",
        "\n",
        "### Contoh Penggunaan\n",
        "\n",
        "Halaman ini juga memberikan contoh kode untuk menggunakan model deteksi objek berbasis transformer, seperti DETR (DEtection TRansformer):\n",
        "\n",
        "```python\n",
        "from transformers import pipeline\n",
        "from PIL import Image\n",
        "\n",
        "pipe = pipeline(\"object-detection\", model=\"facebook/detr-resnet-50\")\n",
        "image = Image.open(\"path/to/your/image.jpg\").convert(\"RGB\")\n",
        "bounding_boxes = pipe(image)\n",
        "```\n",
        "\n",
        "### Evaluasi Model Deteksi Objek\n",
        "\n",
        "Model deteksi objek dievaluasi menggunakan beberapa metrik, termasuk:\n",
        "\n",
        "- **Intersection over Union (IoU)**: Mengukur tumpang tindih antara prediksi dan label referensi, dengan persentase yang berkisar dari 0% hingga 100%. Semakin tinggi persentase IoU, semakin baik akurasi model.\n",
        "  \n",
        "- **Mean Average Precision (mAP)**: Mengukur efisiensi deteksi objek dengan mempertimbangkan presisi dan recall, dihitung di berbagai ambang IoU.\n",
        "\n",
        "### Kesimpulan dan Pekerjaan Masa Depan\n",
        "\n",
        "Memahami deteksi objek adalah langkah awal untuk menguasai teknik visi komputer yang lebih maju. Beberapa area penelitian masa depan termasuk pengembangan model deteksi objek yang ringan dan eksplorasi deteksi objek dalam ruang 3D, yang relevan untuk aplikasi augmented reality.\n"
      ],
      "metadata": {
        "id": "xnNMGBleGVLw"
      }
    },
    {
      "cell_type": "markdown",
      "source": [
        "### Image Segmentation\n",
        "\n",
        "Segmentasi gambar adalah proses membagi gambar menjadi segmen-segmen yang bermakna, yang memungkinkan model untuk memahami dan mengidentifikasi objek dalam gambar dengan lebih baik. Ada beberapa jenis segmentasi yang umum digunakan:\n",
        "\n",
        "1. **Segmentasi Semantik**: Setiap piksel dalam gambar diberi label berdasarkan kelas objek yang ada, tanpa membedakan antara instansi objek yang sama. Misalnya, semua piksel yang merupakan bagian dari kucing akan diberi label yang sama.\n",
        "\n",
        "2. **Segmentasi Instansi**: Membedakan antara instansi yang berbeda dari objek yang sama. Misalnya, jika ada dua kucing dalam gambar, masing-masing akan memiliki masker unik.\n",
        "\n",
        "3. **Segmentasi Panoptik**: Menggabungkan elemen dari segmentasi semantik dan instansi, memberikan kelas dan instansi untuk setiap piksel.\n",
        "\n",
        "### Pendekatan Modern\n",
        "\n",
        "Model-model modern seperti **Segment Anything Model (SAM)** yang diperkenalkan oleh Meta AI Research, menggunakan arsitektur Vision Transformer (ViT) untuk segmentasi. Model ini dapat melakukan segmentasi dengan memberikan prompt berupa deskripsi objek yang ingin disegmentasi.\n",
        "\n",
        "### Contoh Kode\n",
        "\n",
        "Berikut adalah contoh kode untuk menggunakan model segmentasi dengan Hugging Face Transformers:\n",
        "\n",
        "```python\n",
        "from transformers import pipeline\n",
        "from PIL import Image\n",
        "\n",
        "# Inisialisasi pipeline untuk generasi masker\n",
        "pipe = pipeline(\"mask-generation\", model=\"facebook/sam-vit-base\", device=0)\n",
        "\n",
        "# Membaca gambar\n",
        "raw_image = Image.open(\"path/to/image\").convert(\"RGB\")\n",
        "\n",
        "# Menghasilkan masker\n",
        "masks = pipe(raw_image)\n",
        "```\n",
        "\n",
        "#### Penjelasan Kode:\n",
        "\n",
        "1. **Import Library**:\n",
        "   - `from transformers import pipeline`: Mengimpor fungsi `pipeline` dari library Transformers untuk memudahkan penggunaan model.\n",
        "   - `from PIL import Image`: Mengimpor modul Image dari PIL (Python Imaging Library) untuk memanipulasi gambar.\n",
        "\n",
        "2. **Inisialisasi Pipeline**:\n",
        "   - `pipe = pipeline(\"mask-generation\", model=\"facebook/sam-vit-base\", device=0)`: Membuat pipeline untuk generasi masker menggunakan model SAM. Parameter `device=0` menunjukkan bahwa model akan dijalankan di GPU (jika tersedia).\n",
        "\n",
        "3. **Membaca Gambar**:\n",
        "   - `raw_image = Image.open(\"path/to/image\").convert(\"RGB\")`: Membaca gambar dari path yang ditentukan dan mengonversinya ke format RGB.\n",
        "\n",
        "4. **Menghasilkan Masker**:\n",
        "   - `masks = pipe(raw_image)`: Menggunakan pipeline untuk menghasilkan masker dari gambar yang telah dibaca. Hasilnya adalah daftar masker yang menunjukkan area yang terdeteksi dalam gambar.\n",
        "\n",
        "### Evaluasi Model Segmentasi\n",
        "\n",
        "Model segmentasi dievaluasi menggunakan beberapa metrik, termasuk:\n",
        "\n",
        "- **Intersection over Union (IoU)**: Mengukur tumpang tindih antara masker yang diprediksi dan ground truth.\n",
        "- **Akurasi Piksel**: Rasio antara jumlah piksel yang diklasifikasikan dengan benar terhadap total piksel.\n",
        "- **Koefisien Dice**: Mengukur persentase tumpang tindih antara prediksi dan ground truth."
      ],
      "metadata": {
        "id": "fPXR9U8cGfTe"
      }
    }
  ]
}