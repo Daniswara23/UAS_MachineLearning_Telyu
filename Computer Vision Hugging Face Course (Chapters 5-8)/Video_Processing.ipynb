{
  "nbformat": 4,
  "nbformat_minor": 0,
  "metadata": {
    "colab": {
      "provenance": [],
      "authorship_tag": "ABX9TyOvzVr8wR45WNJHxyEdIxCP",
      "include_colab_link": true
    },
    "kernelspec": {
      "name": "python3",
      "display_name": "Python 3"
    },
    "language_info": {
      "name": "python"
    }
  },
  "cells": [
    {
      "cell_type": "markdown",
      "metadata": {
        "id": "view-in-github",
        "colab_type": "text"
      },
      "source": [
        "<a href=\"https://colab.research.google.com/github/yoboiwatsup/MachineLearning/blob/main/UAS/Video_Processing.ipynb\" target=\"_parent\"><img src=\"https://colab.research.google.com/assets/colab-badge.svg\" alt=\"Open In Colab\"/></a>"
      ]
    },
    {
      "cell_type": "markdown",
      "source": [
        "### Pengenalan Pemrosesan Video\n",
        "\n",
        "Kursus ini dimulai dengan menjelaskan pentingnya video dalam konteks visi komputer. Meskipun banyak materi sebelumnya berfokus pada gambar statis 2D, video merupakan salah satu media yang paling banyak digunakan dalam berbagai aplikasi, seperti media sosial, siaran, dan kamera pengawas. Oleh karena itu, pemahaman tentang video dan pemrosesannya sangat penting.\n",
        "\n",
        "#### Apa itu Video?\n",
        "\n",
        "Video adalah format multimedia yang menampilkan serangkaian gambar (frame) secara berurutan. Setiap frame adalah gambar terpisah, dan ketika frame-frame ini diputar dengan kecepatan tertentu, mereka menciptakan ilusi gerakan, mirip dengan flipbook. Video digunakan untuk berbagai tujuan, termasuk komunikasi informasi, hiburan, dan analisis.\n",
        "\n",
        "#### Aspek-aspek Video\n",
        "\n",
        "1. **Resolusi**: Mengacu pada jumlah piksel dalam setiap frame. Resolusi umum termasuk HD (1280x720), Full HD (1920x1080), dan 4K (3840x2160). Semakin tinggi resolusi, semakin banyak detail yang ditampilkan, tetapi juga memerlukan lebih banyak ruang penyimpanan dan daya pemrosesan.\n",
        "\n",
        "2. **Frame Rate**: Jumlah frame yang ditampilkan per detik, biasanya diukur dalam frame per detik (fps). Frame rate yang lebih tinggi menghasilkan gerakan yang lebih halus.\n",
        "\n",
        "3. **Bitrate**: Jumlah data yang diperlukan untuk mendeskripsikan audio dan video. Bitrate yang lebih tinggi biasanya menghasilkan kualitas yang lebih baik, tetapi juga memerlukan lebih banyak penyimpanan dan bandwidth.\n",
        "\n",
        "4. **Codec**: Perangkat lunak atau perangkat keras yang digunakan untuk mengompresi dan mendekompresi media digital. Ada dua jenis utama codec: lossless (tanpa kehilangan kualitas) dan lossy (mengurangi kualitas untuk mengompresi data)."
      ],
      "metadata": {
        "id": "qypqAaKSG7Po"
      }
    },
    {
      "cell_type": "markdown",
      "source": [
        "### Dasar-Dasar Pemrosesan Video\n",
        "\n",
        "Kursus ini menjelaskan bagaimana model transformer, khususnya vision transformers, berfungsi dalam konteks pemrosesan video. Dengan meningkatnya penggunaan model ini, penting untuk memahami perbedaan antara pemrosesan gambar dan video agar dapat mencapai kinerja yang optimal.\n",
        "\n",
        "#### Pemrosesan Gambar untuk Vision Transformers\n",
        "\n",
        "Vision transformers biasanya memproses gambar statis dengan membagi gambar menjadi patch-patch non-overlapping. Misalnya, gambar berukuran 224x224 dapat dibagi menjadi patch 16x16, di mana setiap patch terdiri dari 14x14 piksel. Proses ini memungkinkan model untuk menangkap fitur lokal dalam gambar secara efektif. Setiap patch kemudian diproses melalui lapisan self-attention dan jaringan saraf feed-forward untuk mengekstrak informasi semantik.\n",
        "\n",
        "Namun, karena vision transformers memproses patch secara individual, konteks spasial dari gambar dapat hilang. Untuk mengatasi hal ini, positional encodings sering digunakan untuk menangkap posisi relatif setiap patch dalam gambar, sehingga model dapat lebih baik memahami hubungan spasial antara patch.\n",
        "\n",
        "#### Perbedaan Utama antara Pemrosesan Gambar dan Video\n",
        "\n",
        "Video terdiri dari serangkaian frame, dan pemrosesannya memerlukan teknik untuk menangkap dan menggabungkan informasi gerakan. Dalam pemrosesan gambar, transformer hanya fokus pada informasi spasial tanpa mempertimbangkan hubungan temporal antara frame. Oleh karena itu, diperlukan algoritma terpisah untuk video.\n",
        "\n",
        "Ada dua pendekatan utama untuk mengekstrak token dari video:\n",
        "\n",
        "1. **Uniform Frame Sampling**: Metode ini melibatkan pengambilan frame secara merata dari video, di mana setiap frame diproses secara independen menggunakan metode yang sama seperti pemrosesan gambar. Semua token kemudian digabungkan untuk diproses lebih lanjut.\n",
        "\n",
        "2. **Tubelet Embedding**: Metode ini memperluas embedding gambar menjadi 3D, di mana “tube” spatiotemporal diekstraksi dari volume input. Tube ini mengandung patch dari frame serta informasi temporal, yang kemudian diratakan untuk membangun token video.\n",
        "\n",
        "#### Pentingnya Informasi Temporal dalam Pemrosesan Video\n",
        "\n",
        "Informasi temporal sangat penting untuk berbagai tugas visi komputer, seperti pengenalan aksi dan captioning video. Dengan mempertimbangkan hubungan temporal antara frame, vision transformers dapat menghasilkan caption yang lebih relevan secara kontekstual. Misalnya, jika seseorang terlihat berlari di satu frame dan kemudian melompat di frame berikutnya, model dapat menghasilkan caption yang mencerminkan urutan aksi tersebut."
      ],
      "metadata": {
        "id": "iALPFZR2HG_9"
      }
    }
  ]
}